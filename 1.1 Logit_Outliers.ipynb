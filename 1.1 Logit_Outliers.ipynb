{
 "cells": [
  {
   "cell_type": "code",
   "execution_count": 1,
   "metadata": {},
   "outputs": [],
   "source": [
    "import numpy as np\n",
    "import pandas as pd\n",
    "\n",
    "\n",
    "df = pd.read_csv('data/hotels_merged.csv')\n",
    "\n",
    "df=df.drop(columns = 'Unnamed: 0')\n",
    "\n",
    "df.sort_values(\"hotelName\", inplace = True) \n",
    "\n",
    "df.drop_duplicates(subset =\"hotelName\", \n",
    "                     keep = 'first', inplace = True)\n",
    "\n",
    "df.drop(df.columns[[10,11,12,13,14,15,16,17]],axis =1, inplace = True)"
   ]
  },
  {
   "cell_type": "code",
   "execution_count": 7,
   "metadata": {
    "scrolled": true
   },
   "outputs": [
    {
     "data": {
      "text/html": [
       "<div>\n",
       "<style scoped>\n",
       "    .dataframe tbody tr th:only-of-type {\n",
       "        vertical-align: middle;\n",
       "    }\n",
       "\n",
       "    .dataframe tbody tr th {\n",
       "        vertical-align: top;\n",
       "    }\n",
       "\n",
       "    .dataframe thead th {\n",
       "        text-align: right;\n",
       "    }\n",
       "</style>\n",
       "<table border=\"1\" class=\"dataframe\">\n",
       "  <thead>\n",
       "    <tr style=\"text-align: right;\">\n",
       "      <th></th>\n",
       "      <th>hotelName</th>\n",
       "      <th>url</th>\n",
       "      <th>zipcode</th>\n",
       "      <th>totalRatings</th>\n",
       "      <th>hotelRate</th>\n",
       "      <th>totalPhotos</th>\n",
       "      <th>priceRange</th>\n",
       "      <th>highlights_1</th>\n",
       "      <th>highlights_2</th>\n",
       "      <th>highlights_3</th>\n",
       "    </tr>\n",
       "  </thead>\n",
       "  <tbody>\n",
       "    <tr>\n",
       "      <th>0</th>\n",
       "      <td>AC Hotel by Marriott - Washington</td>\n",
       "      <td>https://www.yelp.com/biz/ac-hotel-by-marriott-...</td>\n",
       "      <td>20036</td>\n",
       "      <td>3</td>\n",
       "      <td>0.0</td>\n",
       "      <td>17</td>\n",
       "      <td>none</td>\n",
       "      <td>none</td>\n",
       "      <td>none</td>\n",
       "      <td>none</td>\n",
       "    </tr>\n",
       "    <tr>\n",
       "      <th>35</th>\n",
       "      <td>AC Hotel by Marriott National Harbor Washingto...</td>\n",
       "      <td>https://www.yelp.com/biz/ac-hotel-by-marriott-...</td>\n",
       "      <td>20745</td>\n",
       "      <td>81</td>\n",
       "      <td>3.5</td>\n",
       "      <td>174</td>\n",
       "      <td>$$</td>\n",
       "      <td>capital wheel</td>\n",
       "      <td>Gaylord</td>\n",
       "      <td>few nights</td>\n",
       "    </tr>\n",
       "    <tr>\n",
       "      <th>66</th>\n",
       "      <td>AKA Virginia Square</td>\n",
       "      <td>https://www.yelp.com/biz/aka-virginia-square-a...</td>\n",
       "      <td>22201</td>\n",
       "      <td>6</td>\n",
       "      <td>3.5</td>\n",
       "      <td>11</td>\n",
       "      <td>$$</td>\n",
       "      <td>none</td>\n",
       "      <td>none</td>\n",
       "      <td>none</td>\n",
       "    </tr>\n",
       "    <tr>\n",
       "      <th>101</th>\n",
       "      <td>AKA White House</td>\n",
       "      <td>https://www.yelp.com/biz/aka-white-house-washi...</td>\n",
       "      <td>20006</td>\n",
       "      <td>61</td>\n",
       "      <td>3.5</td>\n",
       "      <td>97</td>\n",
       "      <td>$$$</td>\n",
       "      <td>one bedroom</td>\n",
       "      <td>Farmers</td>\n",
       "      <td>hotel bar</td>\n",
       "    </tr>\n",
       "    <tr>\n",
       "      <th>129</th>\n",
       "      <td>Alexandria Motel</td>\n",
       "      <td>https://www.yelp.com/biz/alexandria-motel-alex...</td>\n",
       "      <td>22306</td>\n",
       "      <td>3</td>\n",
       "      <td>4.5</td>\n",
       "      <td>4</td>\n",
       "      <td>$</td>\n",
       "      <td>none</td>\n",
       "      <td>none</td>\n",
       "      <td>none</td>\n",
       "    </tr>\n",
       "  </tbody>\n",
       "</table>\n",
       "</div>"
      ],
      "text/plain": [
       "                                             hotelName  \\\n",
       "0                    AC Hotel by Marriott - Washington   \n",
       "35   AC Hotel by Marriott National Harbor Washingto...   \n",
       "66                                 AKA Virginia Square   \n",
       "101                                    AKA White House   \n",
       "129                                   Alexandria Motel   \n",
       "\n",
       "                                                   url  zipcode  totalRatings  \\\n",
       "0    https://www.yelp.com/biz/ac-hotel-by-marriott-...    20036             3   \n",
       "35   https://www.yelp.com/biz/ac-hotel-by-marriott-...    20745            81   \n",
       "66   https://www.yelp.com/biz/aka-virginia-square-a...    22201             6   \n",
       "101  https://www.yelp.com/biz/aka-white-house-washi...    20006            61   \n",
       "129  https://www.yelp.com/biz/alexandria-motel-alex...    22306             3   \n",
       "\n",
       "     hotelRate  totalPhotos priceRange   highlights_1 highlights_2  \\\n",
       "0          0.0           17       none           none         none   \n",
       "35         3.5          174         $$  capital wheel      Gaylord   \n",
       "66         3.5           11         $$           none         none   \n",
       "101        3.5           97        $$$    one bedroom      Farmers   \n",
       "129        4.5            4          $           none         none   \n",
       "\n",
       "    highlights_3  \n",
       "0           none  \n",
       "35    few nights  \n",
       "66          none  \n",
       "101    hotel bar  \n",
       "129         none  "
      ]
     },
     "execution_count": 7,
     "metadata": {},
     "output_type": "execute_result"
    }
   ],
   "source": [
    "df.head()"
   ]
  },
  {
   "cell_type": "code",
   "execution_count": 8,
   "metadata": {},
   "outputs": [
    {
     "data": {
      "text/html": [
       "<div>\n",
       "<style scoped>\n",
       "    .dataframe tbody tr th:only-of-type {\n",
       "        vertical-align: middle;\n",
       "    }\n",
       "\n",
       "    .dataframe tbody tr th {\n",
       "        vertical-align: top;\n",
       "    }\n",
       "\n",
       "    .dataframe thead th {\n",
       "        text-align: right;\n",
       "    }\n",
       "</style>\n",
       "<table border=\"1\" class=\"dataframe\">\n",
       "  <thead>\n",
       "    <tr style=\"text-align: right;\">\n",
       "      <th></th>\n",
       "      <th>zipcode</th>\n",
       "      <th>totalRatings</th>\n",
       "      <th>hotelRate</th>\n",
       "      <th>totalPhotos</th>\n",
       "    </tr>\n",
       "  </thead>\n",
       "  <tbody>\n",
       "    <tr>\n",
       "      <th>count</th>\n",
       "      <td>260.000000</td>\n",
       "      <td>260.000000</td>\n",
       "      <td>260.000000</td>\n",
       "      <td>260.000000</td>\n",
       "    </tr>\n",
       "    <tr>\n",
       "      <th>mean</th>\n",
       "      <td>20910.473077</td>\n",
       "      <td>94.830769</td>\n",
       "      <td>3.290385</td>\n",
       "      <td>126.692308</td>\n",
       "    </tr>\n",
       "    <tr>\n",
       "      <th>std</th>\n",
       "      <td>969.137209</td>\n",
       "      <td>113.091219</td>\n",
       "      <td>0.809752</td>\n",
       "      <td>189.433186</td>\n",
       "    </tr>\n",
       "    <tr>\n",
       "      <th>min</th>\n",
       "      <td>20001.000000</td>\n",
       "      <td>2.000000</td>\n",
       "      <td>0.000000</td>\n",
       "      <td>0.000000</td>\n",
       "    </tr>\n",
       "    <tr>\n",
       "      <th>25%</th>\n",
       "      <td>20007.000000</td>\n",
       "      <td>26.750000</td>\n",
       "      <td>3.000000</td>\n",
       "      <td>41.000000</td>\n",
       "    </tr>\n",
       "    <tr>\n",
       "      <th>50%</th>\n",
       "      <td>20745.000000</td>\n",
       "      <td>62.000000</td>\n",
       "      <td>3.500000</td>\n",
       "      <td>79.000000</td>\n",
       "    </tr>\n",
       "    <tr>\n",
       "      <th>75%</th>\n",
       "      <td>22182.000000</td>\n",
       "      <td>121.500000</td>\n",
       "      <td>4.000000</td>\n",
       "      <td>156.250000</td>\n",
       "    </tr>\n",
       "    <tr>\n",
       "      <th>max</th>\n",
       "      <td>22314.000000</td>\n",
       "      <td>1073.000000</td>\n",
       "      <td>4.500000</td>\n",
       "      <td>2029.000000</td>\n",
       "    </tr>\n",
       "  </tbody>\n",
       "</table>\n",
       "</div>"
      ],
      "text/plain": [
       "            zipcode  totalRatings   hotelRate  totalPhotos\n",
       "count    260.000000    260.000000  260.000000   260.000000\n",
       "mean   20910.473077     94.830769    3.290385   126.692308\n",
       "std      969.137209    113.091219    0.809752   189.433186\n",
       "min    20001.000000      2.000000    0.000000     0.000000\n",
       "25%    20007.000000     26.750000    3.000000    41.000000\n",
       "50%    20745.000000     62.000000    3.500000    79.000000\n",
       "75%    22182.000000    121.500000    4.000000   156.250000\n",
       "max    22314.000000   1073.000000    4.500000  2029.000000"
      ]
     },
     "execution_count": 8,
     "metadata": {},
     "output_type": "execute_result"
    }
   ],
   "source": [
    "df.describe()"
   ]
  },
  {
   "cell_type": "markdown",
   "metadata": {},
   "source": [
    "# Outliers for HR-#TR"
   ]
  },
  {
   "cell_type": "markdown",
   "metadata": {},
   "source": [
    "## hotelRate=0"
   ]
  },
  {
   "cell_type": "code",
   "execution_count": 3,
   "metadata": {
    "scrolled": true
   },
   "outputs": [
    {
     "data": {
      "text/html": [
       "<div>\n",
       "<style scoped>\n",
       "    .dataframe tbody tr th:only-of-type {\n",
       "        vertical-align: middle;\n",
       "    }\n",
       "\n",
       "    .dataframe tbody tr th {\n",
       "        vertical-align: top;\n",
       "    }\n",
       "\n",
       "    .dataframe thead th {\n",
       "        text-align: right;\n",
       "    }\n",
       "</style>\n",
       "<table border=\"1\" class=\"dataframe\">\n",
       "  <thead>\n",
       "    <tr style=\"text-align: right;\">\n",
       "      <th></th>\n",
       "      <th>hotelName</th>\n",
       "      <th>url</th>\n",
       "      <th>zipcode</th>\n",
       "      <th>totalRatings</th>\n",
       "      <th>hotelRate</th>\n",
       "      <th>totalPhotos</th>\n",
       "      <th>priceRange</th>\n",
       "      <th>highlights_1</th>\n",
       "      <th>highlights_2</th>\n",
       "      <th>highlights_3</th>\n",
       "    </tr>\n",
       "  </thead>\n",
       "  <tbody>\n",
       "    <tr>\n",
       "      <th>0</th>\n",
       "      <td>AC Hotel by Marriott - Washington</td>\n",
       "      <td>https://www.yelp.com/biz/ac-hotel-by-marriott-...</td>\n",
       "      <td>20036</td>\n",
       "      <td>3</td>\n",
       "      <td>0.0</td>\n",
       "      <td>17</td>\n",
       "      <td>none</td>\n",
       "      <td>none</td>\n",
       "      <td>none</td>\n",
       "      <td>none</td>\n",
       "    </tr>\n",
       "    <tr>\n",
       "      <th>5127</th>\n",
       "      <td>Home2 Suites by Hilton Silver Spring</td>\n",
       "      <td>https://www.yelp.com/biz/home2-suites-by-hilto...</td>\n",
       "      <td>20903</td>\n",
       "      <td>4</td>\n",
       "      <td>0.0</td>\n",
       "      <td>55</td>\n",
       "      <td>none</td>\n",
       "      <td>none</td>\n",
       "      <td>none</td>\n",
       "      <td>none</td>\n",
       "    </tr>\n",
       "    <tr>\n",
       "      <th>5726</th>\n",
       "      <td>Hyatt Centric Old Town Alexandria</td>\n",
       "      <td>https://www.yelp.com/biz/hyatt-centric-old-tow...</td>\n",
       "      <td>22314</td>\n",
       "      <td>5</td>\n",
       "      <td>0.0</td>\n",
       "      <td>19</td>\n",
       "      <td>none</td>\n",
       "      <td>none</td>\n",
       "      <td>none</td>\n",
       "      <td>none</td>\n",
       "    </tr>\n",
       "    <tr>\n",
       "      <th>7157</th>\n",
       "      <td>Motel 6 Washington</td>\n",
       "      <td>https://www.yelp.com/biz/motel-6-washington-wa...</td>\n",
       "      <td>20012</td>\n",
       "      <td>20</td>\n",
       "      <td>0.0</td>\n",
       "      <td>46</td>\n",
       "      <td>$$</td>\n",
       "      <td>none</td>\n",
       "      <td>none</td>\n",
       "      <td>none</td>\n",
       "    </tr>\n",
       "    <tr>\n",
       "      <th>7174</th>\n",
       "      <td>Motel 6 Washington DC/Convention Center</td>\n",
       "      <td>https://www.yelp.com/biz/motel-6-washington-dc...</td>\n",
       "      <td>20002</td>\n",
       "      <td>9</td>\n",
       "      <td>0.0</td>\n",
       "      <td>41</td>\n",
       "      <td>$$</td>\n",
       "      <td>none</td>\n",
       "      <td>none</td>\n",
       "      <td>none</td>\n",
       "    </tr>\n",
       "    <tr>\n",
       "      <th>9499</th>\n",
       "      <td>The Georgetown House</td>\n",
       "      <td>https://www.yelp.com/biz/the-georgetown-house-...</td>\n",
       "      <td>20007</td>\n",
       "      <td>16</td>\n",
       "      <td>0.0</td>\n",
       "      <td>22</td>\n",
       "      <td>$</td>\n",
       "      <td>M streets</td>\n",
       "      <td>air bnb</td>\n",
       "      <td>code</td>\n",
       "    </tr>\n",
       "    <tr>\n",
       "      <th>10966</th>\n",
       "      <td>TownePlace Suites by Marriott- College Park</td>\n",
       "      <td>https://www.yelp.com/biz/towneplace-suites-by-...</td>\n",
       "      <td>20740</td>\n",
       "      <td>2</td>\n",
       "      <td>0.0</td>\n",
       "      <td>59</td>\n",
       "      <td>none</td>\n",
       "      <td>none</td>\n",
       "      <td>none</td>\n",
       "      <td>none</td>\n",
       "    </tr>\n",
       "    <tr>\n",
       "      <th>11448</th>\n",
       "      <td>WhyHotel Arlington Pentagon Columbia Pike</td>\n",
       "      <td>https://www.yelp.com/biz/whyhotel-arlington-pe...</td>\n",
       "      <td>22204</td>\n",
       "      <td>3</td>\n",
       "      <td>0.0</td>\n",
       "      <td>31</td>\n",
       "      <td>$$</td>\n",
       "      <td>none</td>\n",
       "      <td>none</td>\n",
       "      <td>none</td>\n",
       "    </tr>\n",
       "  </tbody>\n",
       "</table>\n",
       "</div>"
      ],
      "text/plain": [
       "                                         hotelName  \\\n",
       "0                AC Hotel by Marriott - Washington   \n",
       "5127          Home2 Suites by Hilton Silver Spring   \n",
       "5726             Hyatt Centric Old Town Alexandria   \n",
       "7157                            Motel 6 Washington   \n",
       "7174       Motel 6 Washington DC/Convention Center   \n",
       "9499                          The Georgetown House   \n",
       "10966  TownePlace Suites by Marriott- College Park   \n",
       "11448    WhyHotel Arlington Pentagon Columbia Pike   \n",
       "\n",
       "                                                     url  zipcode  \\\n",
       "0      https://www.yelp.com/biz/ac-hotel-by-marriott-...    20036   \n",
       "5127   https://www.yelp.com/biz/home2-suites-by-hilto...    20903   \n",
       "5726   https://www.yelp.com/biz/hyatt-centric-old-tow...    22314   \n",
       "7157   https://www.yelp.com/biz/motel-6-washington-wa...    20012   \n",
       "7174   https://www.yelp.com/biz/motel-6-washington-dc...    20002   \n",
       "9499   https://www.yelp.com/biz/the-georgetown-house-...    20007   \n",
       "10966  https://www.yelp.com/biz/towneplace-suites-by-...    20740   \n",
       "11448  https://www.yelp.com/biz/whyhotel-arlington-pe...    22204   \n",
       "\n",
       "       totalRatings  hotelRate  totalPhotos priceRange highlights_1  \\\n",
       "0                 3        0.0           17       none         none   \n",
       "5127              4        0.0           55       none         none   \n",
       "5726              5        0.0           19       none         none   \n",
       "7157             20        0.0           46         $$         none   \n",
       "7174              9        0.0           41         $$         none   \n",
       "9499             16        0.0           22          $    M streets   \n",
       "10966             2        0.0           59       none         none   \n",
       "11448             3        0.0           31         $$         none   \n",
       "\n",
       "      highlights_2 highlights_3  \n",
       "0             none         none  \n",
       "5127          none         none  \n",
       "5726          none         none  \n",
       "7157          none         none  \n",
       "7174          none         none  \n",
       "9499       air bnb         code  \n",
       "10966         none         none  \n",
       "11448         none         none  "
      ]
     },
     "execution_count": 3,
     "metadata": {},
     "output_type": "execute_result"
    }
   ],
   "source": [
    "df[df['hotelRate']==0]"
   ]
  },
  {
   "cell_type": "code",
   "execution_count": 4,
   "metadata": {
    "scrolled": true
   },
   "outputs": [
    {
     "data": {
      "text/html": [
       "<div>\n",
       "<style scoped>\n",
       "    .dataframe tbody tr th:only-of-type {\n",
       "        vertical-align: middle;\n",
       "    }\n",
       "\n",
       "    .dataframe tbody tr th {\n",
       "        vertical-align: top;\n",
       "    }\n",
       "\n",
       "    .dataframe thead th {\n",
       "        text-align: right;\n",
       "    }\n",
       "</style>\n",
       "<table border=\"1\" class=\"dataframe\">\n",
       "  <thead>\n",
       "    <tr style=\"text-align: right;\">\n",
       "      <th></th>\n",
       "      <th>zipcode</th>\n",
       "      <th>totalRatings</th>\n",
       "      <th>hotelRate</th>\n",
       "      <th>totalPhotos</th>\n",
       "    </tr>\n",
       "  </thead>\n",
       "  <tbody>\n",
       "    <tr>\n",
       "      <th>count</th>\n",
       "      <td>8.00000</td>\n",
       "      <td>8.00000</td>\n",
       "      <td>8.0</td>\n",
       "      <td>8.000000</td>\n",
       "    </tr>\n",
       "    <tr>\n",
       "      <th>mean</th>\n",
       "      <td>20777.25000</td>\n",
       "      <td>7.75000</td>\n",
       "      <td>0.0</td>\n",
       "      <td>36.250000</td>\n",
       "    </tr>\n",
       "    <tr>\n",
       "      <th>std</th>\n",
       "      <td>981.52749</td>\n",
       "      <td>6.75595</td>\n",
       "      <td>0.0</td>\n",
       "      <td>16.412104</td>\n",
       "    </tr>\n",
       "    <tr>\n",
       "      <th>min</th>\n",
       "      <td>20002.00000</td>\n",
       "      <td>2.00000</td>\n",
       "      <td>0.0</td>\n",
       "      <td>17.000000</td>\n",
       "    </tr>\n",
       "    <tr>\n",
       "      <th>25%</th>\n",
       "      <td>20010.75000</td>\n",
       "      <td>3.00000</td>\n",
       "      <td>0.0</td>\n",
       "      <td>21.250000</td>\n",
       "    </tr>\n",
       "    <tr>\n",
       "      <th>50%</th>\n",
       "      <td>20388.00000</td>\n",
       "      <td>4.50000</td>\n",
       "      <td>0.0</td>\n",
       "      <td>36.000000</td>\n",
       "    </tr>\n",
       "    <tr>\n",
       "      <th>75%</th>\n",
       "      <td>21228.25000</td>\n",
       "      <td>10.75000</td>\n",
       "      <td>0.0</td>\n",
       "      <td>48.250000</td>\n",
       "    </tr>\n",
       "    <tr>\n",
       "      <th>max</th>\n",
       "      <td>22314.00000</td>\n",
       "      <td>20.00000</td>\n",
       "      <td>0.0</td>\n",
       "      <td>59.000000</td>\n",
       "    </tr>\n",
       "  </tbody>\n",
       "</table>\n",
       "</div>"
      ],
      "text/plain": [
       "           zipcode  totalRatings  hotelRate  totalPhotos\n",
       "count      8.00000       8.00000        8.0     8.000000\n",
       "mean   20777.25000       7.75000        0.0    36.250000\n",
       "std      981.52749       6.75595        0.0    16.412104\n",
       "min    20002.00000       2.00000        0.0    17.000000\n",
       "25%    20010.75000       3.00000        0.0    21.250000\n",
       "50%    20388.00000       4.50000        0.0    36.000000\n",
       "75%    21228.25000      10.75000        0.0    48.250000\n",
       "max    22314.00000      20.00000        0.0    59.000000"
      ]
     },
     "execution_count": 4,
     "metadata": {},
     "output_type": "execute_result"
    }
   ],
   "source": [
    "df[df['hotelRate']==0].describe()"
   ]
  },
  {
   "cell_type": "markdown",
   "metadata": {},
   "source": [
    "Most of them has no highlights. low #TR. Total count = 8"
   ]
  },
  {
   "cell_type": "markdown",
   "metadata": {},
   "source": [
    "# Visualization"
   ]
  },
  {
   "cell_type": "markdown",
   "metadata": {},
   "source": [
    "## HR-#TR"
   ]
  },
  {
   "cell_type": "code",
   "execution_count": 6,
   "metadata": {},
   "outputs": [],
   "source": [
    "import matplotlib.pyplot as plt\n",
    "%matplotlib inline\n",
    "import seaborn as sns; sns.set()"
   ]
  },
  {
   "cell_type": "code",
   "execution_count": 31,
   "metadata": {
    "scrolled": false
   },
   "outputs": [
    {
     "data": {
      "text/plain": [
       "<matplotlib.collections.PathCollection at 0x7fb1aa27c8b0>"
      ]
     },
     "execution_count": 31,
     "metadata": {},
     "output_type": "execute_result"
    },
    {
     "data": {
      "image/png": "[encoded data removed]",
      "text/plain": [
       "<Figure size 432x288 with 1 Axes>"
      ]
     },
     "metadata": {},
     "output_type": "display_data"
    }
   ],
   "source": [
    "x1=df['totalRatings']\n",
    "y1=df['hotelRate']\n",
    "plt.scatter(x, y)"
   ]
  },
  {
   "cell_type": "code",
   "execution_count": 47,
   "metadata": {},
   "outputs": [
    {
     "name": "stdout",
     "output_type": "stream",
     "text": [
      "HR_mean: 3.2903846153846152\n",
      "#TR_mean: 94.83076923076923\n",
      "count: 260\n"
     ]
    }
   ],
   "source": [
    "print('HR_mean:', y1.mean())\n",
    "print('#TR_mean:', x1.mean())\n",
    "print('count:',x1.count())"
   ]
  },
  {
   "cell_type": "markdown",
   "metadata": {},
   "source": [
    "### #TR Less than 200"
   ]
  },
  {
   "cell_type": "code",
   "execution_count": 33,
   "metadata": {
    "scrolled": true
   },
   "outputs": [
    {
     "data": {
      "text/plain": [
       "<matplotlib.collections.PathCollection at 0x7fb1abfd8d00>"
      ]
     },
     "execution_count": 33,
     "metadata": {},
     "output_type": "execute_result"
    },
    {
     "data": {
      "image/png": "[encoded data removed]",
      "text/plain": [
       "<Figure size 432x288 with 1 Axes>"
      ]
     },
     "metadata": {},
     "output_type": "display_data"
    }
   ],
   "source": [
    "x1_200less=df[df['totalRatings']<=200]['totalRatings']\n",
    "y1_200less=df[df['totalRatings']<=200]['hotelRate']\n",
    "plt.scatter(x1_200less, y1_200less)"
   ]
  },
  {
   "cell_type": "code",
   "execution_count": 46,
   "metadata": {
    "scrolled": true
   },
   "outputs": [
    {
     "name": "stdout",
     "output_type": "stream",
     "text": [
      "HR_mean: 3.2860262008733625\n",
      "#TR_mean: 64.1877729257642\n",
      "count: 229\n"
     ]
    }
   ],
   "source": [
    "print('HR_mean:', y1_200less.mean())\n",
    "print('#TR_mean:', x1_200less.mean())\n",
    "print('count:',x1_200less.count())"
   ]
  },
  {
   "cell_type": "markdown",
   "metadata": {},
   "source": [
    "### #TR More than 200"
   ]
  },
  {
   "cell_type": "code",
   "execution_count": 39,
   "metadata": {},
   "outputs": [
    {
     "data": {
      "text/plain": [
       "<matplotlib.collections.PathCollection at 0x7fb1abf0ef70>"
      ]
     },
     "execution_count": 39,
     "metadata": {},
     "output_type": "execute_result"
    },
    {
     "data": {
      "image/png": "[encoded data removed]",
      "text/plain": [
       "<Figure size 432x288 with 1 Axes>"
      ]
     },
     "metadata": {},
     "output_type": "display_data"
    }
   ],
   "source": [
    "x1_200more=df[df['totalRatings']>200]['totalRatings']\n",
    "y1_200more=df[df['totalRatings']>200]['hotelRate']\n",
    "plt.scatter(x1_200more, y1_200more)"
   ]
  },
  {
   "cell_type": "code",
   "execution_count": 40,
   "metadata": {
    "scrolled": false
   },
   "outputs": [
    {
     "name": "stdout",
     "output_type": "stream",
     "text": [
      "mean: 3.3225806451612905\n",
      "count: 31\n"
     ]
    }
   ],
   "source": [
    "print('mean:', y1_200more.mean())\n",
    "print('count:',x1_200more.count())"
   ]
  },
  {
   "cell_type": "markdown",
   "metadata": {},
   "source": [
    "### #TR <= 400 & Ratings>0"
   ]
  },
  {
   "cell_type": "code",
   "execution_count": 44,
   "metadata": {},
   "outputs": [
    {
     "data": {
      "text/plain": [
       "<matplotlib.collections.PathCollection at 0x7fb1add454f0>"
      ]
     },
     "execution_count": 44,
     "metadata": {},
     "output_type": "execute_result"
    },
    {
     "data": {
      "image/png": "[encoded data removed]",
      "text/plain": [
       "<Figure size 432x288 with 1 Axes>"
      ]
     },
     "metadata": {},
     "output_type": "display_data"
    }
   ],
   "source": [
    "### #TR More than 200x1_pHR_400=df[(df['hotelRate']!=0) & (df['totalRatings']<=400)]['totalRatings']\n",
    "y1_pHR_400=df[(df['hotelRate']!=0) & (df['totalRatings']<=400)]['hotelRate']\n",
    "plt.scatter(x1_pHR_400, y1_pHR_400)"
   ]
  },
  {
   "cell_type": "code",
   "execution_count": 45,
   "metadata": {},
   "outputs": [
    {
     "name": "stdout",
     "output_type": "stream",
     "text": [
      "mean: 3.399193548387097\n",
      "count: 248\n"
     ]
    }
   ],
   "source": [
    "print('mean:', y1_pHR_400.mean())\n",
    "print('count:',x1_pHR_400.count())"
   ]
  },
  {
   "cell_type": "markdown",
   "metadata": {},
   "source": [
    "Findings: \n",
    "> HR>0\n",
    "> #TR<=400\n",
    "\n",
    "Observaion: 248/260\n"
   ]
  },
  {
   "cell_type": "markdown",
   "metadata": {},
   "source": [
    "## PR = 'none'"
   ]
  },
  {
   "cell_type": "code",
   "execution_count": 9,
   "metadata": {
    "scrolled": false
   },
   "outputs": [
    {
     "data": {
      "text/html": [
       "<div>\n",
       "<style scoped>\n",
       "    .dataframe tbody tr th:only-of-type {\n",
       "        vertical-align: middle;\n",
       "    }\n",
       "\n",
       "    .dataframe tbody tr th {\n",
       "        vertical-align: top;\n",
       "    }\n",
       "\n",
       "    .dataframe thead th {\n",
       "        text-align: right;\n",
       "    }\n",
       "</style>\n",
       "<table border=\"1\" class=\"dataframe\">\n",
       "  <thead>\n",
       "    <tr style=\"text-align: right;\">\n",
       "      <th></th>\n",
       "      <th>zipcode</th>\n",
       "      <th>totalRatings</th>\n",
       "      <th>hotelRate</th>\n",
       "      <th>totalPhotos</th>\n",
       "    </tr>\n",
       "  </thead>\n",
       "  <tbody>\n",
       "    <tr>\n",
       "      <th>count</th>\n",
       "      <td>19.000000</td>\n",
       "      <td>19.000000</td>\n",
       "      <td>19.000000</td>\n",
       "      <td>19.000000</td>\n",
       "    </tr>\n",
       "    <tr>\n",
       "      <th>mean</th>\n",
       "      <td>20687.631579</td>\n",
       "      <td>12.210526</td>\n",
       "      <td>2.605263</td>\n",
       "      <td>45.052632</td>\n",
       "    </tr>\n",
       "    <tr>\n",
       "      <th>std</th>\n",
       "      <td>896.365948</td>\n",
       "      <td>18.650526</td>\n",
       "      <td>1.523692</td>\n",
       "      <td>56.058971</td>\n",
       "    </tr>\n",
       "    <tr>\n",
       "      <th>min</th>\n",
       "      <td>20001.000000</td>\n",
       "      <td>2.000000</td>\n",
       "      <td>0.000000</td>\n",
       "      <td>0.000000</td>\n",
       "    </tr>\n",
       "    <tr>\n",
       "      <th>25%</th>\n",
       "      <td>20007.000000</td>\n",
       "      <td>3.000000</td>\n",
       "      <td>2.000000</td>\n",
       "      <td>21.000000</td>\n",
       "    </tr>\n",
       "    <tr>\n",
       "      <th>50%</th>\n",
       "      <td>20037.000000</td>\n",
       "      <td>5.000000</td>\n",
       "      <td>3.000000</td>\n",
       "      <td>32.000000</td>\n",
       "    </tr>\n",
       "    <tr>\n",
       "      <th>75%</th>\n",
       "      <td>20838.500000</td>\n",
       "      <td>13.500000</td>\n",
       "      <td>3.500000</td>\n",
       "      <td>52.000000</td>\n",
       "    </tr>\n",
       "    <tr>\n",
       "      <th>max</th>\n",
       "      <td>22314.000000</td>\n",
       "      <td>84.000000</td>\n",
       "      <td>4.500000</td>\n",
       "      <td>264.000000</td>\n",
       "    </tr>\n",
       "  </tbody>\n",
       "</table>\n",
       "</div>"
      ],
      "text/plain": [
       "            zipcode  totalRatings  hotelRate  totalPhotos\n",
       "count     19.000000     19.000000  19.000000    19.000000\n",
       "mean   20687.631579     12.210526   2.605263    45.052632\n",
       "std      896.365948     18.650526   1.523692    56.058971\n",
       "min    20001.000000      2.000000   0.000000     0.000000\n",
       "25%    20007.000000      3.000000   2.000000    21.000000\n",
       "50%    20037.000000      5.000000   3.000000    32.000000\n",
       "75%    20838.500000     13.500000   3.500000    52.000000\n",
       "max    22314.000000     84.000000   4.500000   264.000000"
      ]
     },
     "execution_count": 9,
     "metadata": {},
     "output_type": "execute_result"
    }
   ],
   "source": [
    "df[df['priceRange']=='none'].describe()"
   ]
  },
  {
   "cell_type": "code",
   "execution_count": 10,
   "metadata": {
    "scrolled": true
   },
   "outputs": [
    {
     "data": {
      "text/html": [
       "<div>\n",
       "<style scoped>\n",
       "    .dataframe tbody tr th:only-of-type {\n",
       "        vertical-align: middle;\n",
       "    }\n",
       "\n",
       "    .dataframe tbody tr th {\n",
       "        vertical-align: top;\n",
       "    }\n",
       "\n",
       "    .dataframe thead th {\n",
       "        text-align: right;\n",
       "    }\n",
       "</style>\n",
       "<table border=\"1\" class=\"dataframe\">\n",
       "  <thead>\n",
       "    <tr style=\"text-align: right;\">\n",
       "      <th></th>\n",
       "      <th>zipcode</th>\n",
       "      <th>totalRatings</th>\n",
       "      <th>hotelRate</th>\n",
       "      <th>totalPhotos</th>\n",
       "    </tr>\n",
       "  </thead>\n",
       "  <tbody>\n",
       "    <tr>\n",
       "      <th>count</th>\n",
       "      <td>241.000000</td>\n",
       "      <td>241.000000</td>\n",
       "      <td>241.000000</td>\n",
       "      <td>241.000000</td>\n",
       "    </tr>\n",
       "    <tr>\n",
       "      <th>mean</th>\n",
       "      <td>20928.041494</td>\n",
       "      <td>101.344398</td>\n",
       "      <td>3.344398</td>\n",
       "      <td>133.128631</td>\n",
       "    </tr>\n",
       "    <tr>\n",
       "      <th>std</th>\n",
       "      <td>974.207771</td>\n",
       "      <td>114.860974</td>\n",
       "      <td>0.702421</td>\n",
       "      <td>194.732841</td>\n",
       "    </tr>\n",
       "    <tr>\n",
       "      <th>min</th>\n",
       "      <td>20001.000000</td>\n",
       "      <td>2.000000</td>\n",
       "      <td>0.000000</td>\n",
       "      <td>0.000000</td>\n",
       "    </tr>\n",
       "    <tr>\n",
       "      <th>25%</th>\n",
       "      <td>20007.000000</td>\n",
       "      <td>34.000000</td>\n",
       "      <td>3.000000</td>\n",
       "      <td>45.000000</td>\n",
       "    </tr>\n",
       "    <tr>\n",
       "      <th>50%</th>\n",
       "      <td>20745.000000</td>\n",
       "      <td>68.000000</td>\n",
       "      <td>3.500000</td>\n",
       "      <td>85.000000</td>\n",
       "    </tr>\n",
       "    <tr>\n",
       "      <th>75%</th>\n",
       "      <td>22182.000000</td>\n",
       "      <td>125.000000</td>\n",
       "      <td>4.000000</td>\n",
       "      <td>165.000000</td>\n",
       "    </tr>\n",
       "    <tr>\n",
       "      <th>max</th>\n",
       "      <td>22314.000000</td>\n",
       "      <td>1073.000000</td>\n",
       "      <td>4.500000</td>\n",
       "      <td>2029.000000</td>\n",
       "    </tr>\n",
       "  </tbody>\n",
       "</table>\n",
       "</div>"
      ],
      "text/plain": [
       "            zipcode  totalRatings   hotelRate  totalPhotos\n",
       "count    241.000000    241.000000  241.000000   241.000000\n",
       "mean   20928.041494    101.344398    3.344398   133.128631\n",
       "std      974.207771    114.860974    0.702421   194.732841\n",
       "min    20001.000000      2.000000    0.000000     0.000000\n",
       "25%    20007.000000     34.000000    3.000000    45.000000\n",
       "50%    20745.000000     68.000000    3.500000    85.000000\n",
       "75%    22182.000000    125.000000    4.000000   165.000000\n",
       "max    22314.000000   1073.000000    4.500000  2029.000000"
      ]
     },
     "execution_count": 10,
     "metadata": {},
     "output_type": "execute_result"
    }
   ],
   "source": [
    "df[df['priceRange']!='none'].describe()"
   ]
  },
  {
   "cell_type": "markdown",
   "metadata": {},
   "source": [
    "PR 빼고/\n"
   ]
  }
 ],
 "metadata": {
  "kernelspec": {
   "display_name": "Python 3",
   "language": "python",
   "name": "python3"
  },
  "language_info": {
   "codemirror_mode": {
    "name": "ipython",
    "version": 3
   },
   "file_extension": ".py",
   "mimetype": "text/x-python",
   "name": "python",
   "nbconvert_exporter": "python",
   "pygments_lexer": "ipython3",
   "version": "3.8.2"
  }
 },
 "nbformat": 4,
 "nbformat_minor": 4
}
