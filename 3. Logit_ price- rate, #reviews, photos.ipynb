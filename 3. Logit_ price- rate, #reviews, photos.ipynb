{
 "cells": [
  {
   "cell_type": "code",
   "execution_count": null,
   "metadata": {},
   "outputs": [],
   "source": []
  },
  {
   "cell_type": "code",
   "execution_count": null,
   "metadata": {},
   "outputs": [],
   "source": []
  },
  {
   "cell_type": "code",
   "execution_count": null,
   "metadata": {},
   "outputs": [],
   "source": []
  },
  {
   "cell_type": "code",
   "execution_count": 99,
   "metadata": {
    "scrolled": true
   },
   "outputs": [
    {
     "name": "stdout",
     "output_type": "stream",
     "text": [
      "Optimization terminated successfully.\n",
      "         Current function value: 0.625884\n",
      "         Iterations 10\n"
     ]
    },
    {
     "data": {
      "text/html": [
       "<table class=\"simpletable\">\n",
       "<caption>MNLogit Regression Results</caption>\n",
       "<tr>\n",
       "  <th>Dep. Variable:</th>      <td>priceRange</td>    <th>  No. Observations:  </th>  <td>   241</td>  \n",
       "</tr>\n",
       "<tr>\n",
       "  <th>Model:</th>                <td>MNLogit</td>     <th>  Df Residuals:      </th>  <td>   232</td>  \n",
       "</tr>\n",
       "<tr>\n",
       "  <th>Method:</th>                 <td>MLE</td>       <th>  Df Model:          </th>  <td>     6</td>  \n",
       "</tr>\n",
       "<tr>\n",
       "  <th>Date:</th>            <td>Wed, 03 Jun 2020</td> <th>  Pseudo R-squ.:     </th>  <td>0.1639</td>  \n",
       "</tr>\n",
       "<tr>\n",
       "  <th>Time:</th>                <td>16:03:01</td>     <th>  Log-Likelihood:    </th> <td> -150.84</td> \n",
       "</tr>\n",
       "<tr>\n",
       "  <th>converged:</th>             <td>True</td>       <th>  LL-Null:           </th> <td> -180.41</td> \n",
       "</tr>\n",
       "<tr>\n",
       "  <th>Covariance Type:</th>     <td>nonrobust</td>    <th>  LLR p-value:       </th> <td>6.700e-11</td>\n",
       "</tr>\n",
       "</table>\n",
       "<table class=\"simpletable\">\n",
       "<tr>\n",
       "  <th>priceRange=2</th>    <th>coef</th>     <th>std err</th>      <th>z</th>      <th>P>|z|</th>  <th>[0.025</th>    <th>0.975]</th>  \n",
       "</tr>\n",
       "<tr>\n",
       "  <th>hotelRate</th>    <td>    0.1979</td> <td>    0.204</td> <td>    0.968</td> <td> 0.333</td> <td>   -0.203</td> <td>    0.598</td>\n",
       "</tr>\n",
       "<tr>\n",
       "  <th>totalRatings</th> <td>    0.0044</td> <td>    0.020</td> <td>    0.218</td> <td> 0.827</td> <td>   -0.035</td> <td>    0.044</td>\n",
       "</tr>\n",
       "<tr>\n",
       "  <th>totalPhotos</th>  <td>    0.0496</td> <td>    0.025</td> <td>    1.997</td> <td> 0.046</td> <td>    0.001</td> <td>    0.098</td>\n",
       "</tr>\n",
       "<tr>\n",
       "  <th>priceRange=3</th>    <th>coef</th>     <th>std err</th>      <th>z</th>      <th>P>|z|</th>  <th>[0.025</th>    <th>0.975]</th>  \n",
       "</tr>\n",
       "<tr>\n",
       "  <th>hotelRate</th>    <td>   -0.5895</td> <td>    0.223</td> <td>   -2.639</td> <td> 0.008</td> <td>   -1.027</td> <td>   -0.152</td>\n",
       "</tr>\n",
       "<tr>\n",
       "  <th>totalRatings</th> <td>    0.0111</td> <td>    0.021</td> <td>    0.540</td> <td> 0.589</td> <td>   -0.029</td> <td>    0.051</td>\n",
       "</tr>\n",
       "<tr>\n",
       "  <th>totalPhotos</th>  <td>    0.0556</td> <td>    0.025</td> <td>    2.225</td> <td> 0.026</td> <td>    0.007</td> <td>    0.104</td>\n",
       "</tr>\n",
       "<tr>\n",
       "  <th>priceRange=4</th>    <th>coef</th>     <th>std err</th>      <th>z</th>      <th>P>|z|</th>  <th>[0.025</th>    <th>0.975]</th>  \n",
       "</tr>\n",
       "<tr>\n",
       "  <th>hotelRate</th>    <td>   -1.1206</td> <td>    0.283</td> <td>   -3.958</td> <td> 0.000</td> <td>   -1.676</td> <td>   -0.566</td>\n",
       "</tr>\n",
       "<tr>\n",
       "  <th>totalRatings</th> <td>   -0.0036</td> <td>    0.022</td> <td>   -0.159</td> <td> 0.874</td> <td>   -0.048</td> <td>    0.040</td>\n",
       "</tr>\n",
       "<tr>\n",
       "  <th>totalPhotos</th>  <td>    0.0619</td> <td>    0.025</td> <td>    2.449</td> <td> 0.014</td> <td>    0.012</td> <td>    0.111</td>\n",
       "</tr>\n",
       "</table>"
      ],
      "text/plain": [
       "<class 'statsmodels.iolib.summary.Summary'>\n",
       "\"\"\"\n",
       "                          MNLogit Regression Results                          \n",
       "==============================================================================\n",
       "Dep. Variable:             priceRange   No. Observations:                  241\n",
       "Model:                        MNLogit   Df Residuals:                      232\n",
       "Method:                           MLE   Df Model:                            6\n",
       "Date:                Wed, 03 Jun 2020   Pseudo R-squ.:                  0.1639\n",
       "Time:                        16:03:01   Log-Likelihood:                -150.84\n",
       "converged:                       True   LL-Null:                       -180.41\n",
       "Covariance Type:            nonrobust   LLR p-value:                 6.700e-11\n",
       "================================================================================\n",
       "priceRange=2       coef    std err          z      P>|z|      [0.025      0.975]\n",
       "--------------------------------------------------------------------------------\n",
       "hotelRate        0.1979      0.204      0.968      0.333      -0.203       0.598\n",
       "totalRatings     0.0044      0.020      0.218      0.827      -0.035       0.044\n",
       "totalPhotos      0.0496      0.025      1.997      0.046       0.001       0.098\n",
       "--------------------------------------------------------------------------------\n",
       "priceRange=3       coef    std err          z      P>|z|      [0.025      0.975]\n",
       "--------------------------------------------------------------------------------\n",
       "hotelRate       -0.5895      0.223     -2.639      0.008      -1.027      -0.152\n",
       "totalRatings     0.0111      0.021      0.540      0.589      -0.029       0.051\n",
       "totalPhotos      0.0556      0.025      2.225      0.026       0.007       0.104\n",
       "--------------------------------------------------------------------------------\n",
       "priceRange=4       coef    std err          z      P>|z|      [0.025      0.975]\n",
       "--------------------------------------------------------------------------------\n",
       "hotelRate       -1.1206      0.283     -3.958      0.000      -1.676      -0.566\n",
       "totalRatings    -0.0036      0.022     -0.159      0.874      -0.048       0.040\n",
       "totalPhotos      0.0619      0.025      2.449      0.014       0.012       0.111\n",
       "================================================================================\n",
       "\"\"\""
      ]
     },
     "execution_count": 99,
     "metadata": {},
     "output_type": "execute_result"
    }
   ],
   "source": [
    "import statsmodels.api as sm\n",
    "model1= sm.MNLogit(df['priceRange'], df[['hotelRate','totalRatings','totalPhotos']])\n",
    "answer1= model1.fit()\n",
    "answer1.summary()"
   ]
  }
 ],
 "metadata": {
  "kernelspec": {
   "display_name": "Python 3",
   "language": "python",
   "name": "python3"
  },
  "language_info": {
   "codemirror_mode": {
    "name": "ipython",
    "version": 3
   },
   "file_extension": ".py",
   "mimetype": "text/x-python",
   "name": "python",
   "nbconvert_exporter": "python",
   "pygments_lexer": "ipython3",
   "version": "3.8.2"
  }
 },
 "nbformat": 4,
 "nbformat_minor": 4
}
